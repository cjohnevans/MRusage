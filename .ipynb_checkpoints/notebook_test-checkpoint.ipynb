{
 "cells": [
  {
   "cell_type": "code",
   "execution_count": 2,
   "id": "10267748",
   "metadata": {},
   "outputs": [],
   "source": [
    "import os"
   ]
  },
  {
   "cell_type": "code",
   "execution_count": 4,
   "id": "92229900",
   "metadata": {},
   "outputs": [
    {
     "data": {
      "text/plain": [
       "'.'"
      ]
     },
     "execution_count": 4,
     "metadata": {},
     "output_type": "execute_result"
    }
   ],
   "source": [
    "os.curdir"
   ]
  },
  {
   "cell_type": "code",
   "execution_count": 5,
   "id": "7b834fc9",
   "metadata": {},
   "outputs": [
    {
     "data": {
      "text/plain": [
       "['.git',\n",
       " '.ipynb_checkpoints',\n",
       " 'BookingFinder.pyc',\n",
       " 'debug_availability.csv',\n",
       " 'debug_availability1.csv',\n",
       " 'debug_availability2.csv',\n",
       " 'finder.py',\n",
       " 'finder.pyc',\n",
       " 'mri_activity_2021aprdec_all.csv',\n",
       " 'mri_activity_2021aprdec_all_b.csv',\n",
       " 'mri_activity_aprnov_2021.csv',\n",
       " 'mri_activity_dec_2021.csv',\n",
       " 'mrusage.py',\n",
       " 'output',\n",
       " 'README',\n",
       " 'report.csv',\n",
       " 'required_schedule - ray.csv',\n",
       " 'required_schedule.csv',\n",
       " 'untitled',\n",
       " 'Untitled.ipynb',\n",
       " '__pycache__']"
      ]
     },
     "execution_count": 5,
     "metadata": {},
     "output_type": "execute_result"
    }
   ],
   "source": [
    "os.listdir()"
   ]
  }
 ],
 "metadata": {
  "kernelspec": {
   "display_name": "Python 3 (ipykernel)",
   "language": "python",
   "name": "python3"
  },
  "language_info": {
   "codemirror_mode": {
    "name": "ipython",
    "version": 3
   },
   "file_extension": ".py",
   "mimetype": "text/x-python",
   "name": "python",
   "nbconvert_exporter": "python",
   "pygments_lexer": "ipython3",
   "version": "3.9.7"
  }
 },
 "nbformat": 4,
 "nbformat_minor": 5
}
